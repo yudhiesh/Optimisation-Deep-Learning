{
  "nbformat": 4,
  "nbformat_minor": 0,
  "metadata": {
    "colab": {
      "name": "LinearProgramming2.ipynb",
      "provenance": [],
      "collapsed_sections": [],
      "authorship_tag": "ABX9TyOalew7uPzsFQ5eeOOIMf60",
      "include_colab_link": true
    },
    "kernelspec": {
      "name": "python3",
      "display_name": "Python 3"
    }
  },
  "cells": [
    {
      "cell_type": "markdown",
      "metadata": {
        "id": "view-in-github",
        "colab_type": "text"
      },
      "source": [
        "<a href=\"https://colab.research.google.com/github/yudhiesh1997/Optimisation-Deep-Learning/blob/master/LinearProgramming2.ipynb\" target=\"_parent\"><img src=\"https://colab.research.google.com/assets/colab-badge.svg\" alt=\"Open In Colab\"/></a>"
      ]
    },
    {
      "cell_type": "code",
      "metadata": {
        "id": "_But05BcLyl3",
        "colab_type": "code",
        "colab": {
          "base_uri": "https://localhost:8080/",
          "height": 87
        },
        "outputId": "611fec3e-677e-41ac-8d7b-bb6a96e8bc54"
      },
      "source": [
        "import numpy as np \n",
        "from scipy.optimize import minimize\n",
        "!pip install pulp \n",
        "import pulp as p \n",
        "import matplotlib.pyplot as plt"
      ],
      "execution_count": 1,
      "outputs": [
        {
          "output_type": "stream",
          "text": [
            "Requirement already satisfied: pulp in /usr/local/lib/python3.6/dist-packages (2.2)\n",
            "Requirement already satisfied: amply>=0.1.2 in /usr/local/lib/python3.6/dist-packages (from pulp) (0.1.2)\n",
            "Requirement already satisfied: docutils>=0.3 in /usr/local/lib/python3.6/dist-packages (from amply>=0.1.2->pulp) (0.15.2)\n",
            "Requirement already satisfied: pyparsing in /usr/local/lib/python3.6/dist-packages (from amply>=0.1.2->pulp) (2.4.7)\n"
          ],
          "name": "stdout"
        }
      ]
    },
    {
      "cell_type": "code",
      "metadata": {
        "id": "9NpK2A_AMTRT",
        "colab_type": "code",
        "colab": {}
      },
      "source": [
        "%matplotlib inline "
      ],
      "execution_count": 2,
      "outputs": []
    },
    {
      "cell_type": "code",
      "metadata": {
        "id": "tn-pmIgiMpVv",
        "colab_type": "code",
        "colab": {
          "base_uri": "https://localhost:8080/",
          "height": 336
        },
        "outputId": "c311c248-5886-4178-d8d7-7652223b8c1e"
      },
      "source": [
        "# Create a LP minimization problem \n",
        "lp_prob = p.LpProblem(\"Problem\", p.LpMinimize)\n",
        "\n",
        "# Create the problem variables \n",
        "x = p.LpVariable(\"x\", lowBound = 0)\n",
        "y = p.LpVariable(\"y\", lowBound = 0)\n",
        "\n",
        "# Objective functions \n",
        "lp_prob += 3 * x + 5 * y\n",
        "\n",
        "# Constraints\n",
        "lp_prob += 2 * x + 3 * y >= 12\n",
        "lp_prob += -x + y <= 3\n",
        "lp_prob += x >= 4\n",
        "lp_prob += y <= 3\n",
        "\n",
        "# Display the problems\n",
        "print(lp_prob)\n",
        "\n",
        "# Solver\n",
        "status = lp_prob.solve()\n",
        "\n",
        "# The solution status \n",
        "print(p.LpStatus[status])\n",
        "\n",
        "# Printing the final solution\n",
        "print(p.value(x), p.value(y),  p.value(lp_prob.objective))"
      ],
      "execution_count": 3,
      "outputs": [
        {
          "output_type": "stream",
          "text": [
            "Problem:\n",
            "MINIMIZE\n",
            "3*x + 5*y + 0\n",
            "SUBJECT TO\n",
            "_C1: 2 x + 3 y >= 12\n",
            "\n",
            "_C2: - x + y <= 3\n",
            "\n",
            "_C3: x >= 4\n",
            "\n",
            "_C4: y <= 3\n",
            "\n",
            "VARIABLES\n",
            "x Continuous\n",
            "y Continuous\n",
            "\n",
            "Optimal\n",
            "6.0 0.0 18.0\n"
          ],
          "name": "stdout"
        }
      ]
    },
    {
      "cell_type": "code",
      "metadata": {
        "id": "vxT3I_JbM6rv",
        "colab_type": "code",
        "colab": {
          "base_uri": "https://localhost:8080/",
          "height": 296
        },
        "outputId": "7f184426-cc12-4466-f938-ce82a23e1713"
      },
      "source": [
        "d = np.linspace(-2, 16,300)\n",
        "x,y = np.meshgrid(d,d)\n",
        "plt.imshow(((y<=3) & (3* y> -2*x +12) & (y<=x+3) & (x>=4)).astype(int),\n",
        "extent=(x.min(), x.max(), y.min(), y.max()), origin =\"lower\", cmap=\"Greys\", alpha=0.3)\n",
        "\n",
        "# construct the lines\n",
        "x = np.linspace(0,20,2000)\n",
        "\n",
        "y1 = (12 - 2*x) / 3\n",
        "\n",
        "y2 = 3 + x\n",
        "\n",
        "#geq = greater equal to \n",
        "#leq = less equal to \n",
        "\n",
        "plt.axhline(y=3, xmin= 0, xmax=20, label=r'$x\\geq4$')\n",
        "plt.axvline(x=4, ymax=20, label=r'$y\\leq3$')\n",
        "plt.plot(x,y1, label=r'$3y\\geq12-2x$')\n",
        "plt.plot(x, y2, label=r'$y\\leq3+x$')\n",
        "plt.legend(bbox_to_anchor=(1.05,1), loc=2, borderaxespad=0.)\n",
        "\n",
        "plt.xlim((0,16))\n",
        "plt.ylim((0,11))\n",
        "plt.xlabel(r'$x$')\n",
        "plt.ylabel(r'$y$')"
      ],
      "execution_count": 4,
      "outputs": [
        {
          "output_type": "execute_result",
          "data": {
            "text/plain": [
              "Text(0, 0.5, '$y$')"
            ]
          },
          "metadata": {
            "tags": []
          },
          "execution_count": 4
        },
        {
          "output_type": "display_data",
          "data": {
            "image/png": "[encoded data removed]",
            "text/plain": [
              "<Figure size 432x288 with 1 Axes>"
            ]
          },
          "metadata": {
            "tags": [],
            "needs_background": "light"
          }
        }
      ]
    },
    {
      "cell_type": "code",
      "metadata": {
        "id": "3BtejrddNpLV",
        "colab_type": "code",
        "colab": {
          "base_uri": "https://localhost:8080/",
          "height": 336
        },
        "outputId": "706b8471-2cac-4b99-c6e1-a2b9f911b24a"
      },
      "source": [
        "# Create a LP minimization problem \n",
        "lp_prob = p.LpProblem(\"Problem\", p.LpMaximize)\n",
        "\n",
        "# Create the problem variables \n",
        "x1 = p.LpVariable(\"x1\", lowBound = 0)\n",
        "x2 = p.LpVariable(\"x2\", lowBound = 0)\n",
        "\n",
        "# Objective functions \n",
        "lp_prob += 10 * x1 + 9 * x2\n",
        "\n",
        "# Constraints\n",
        "lp_prob += 7/10 * x1 + x2 <= 630\n",
        "lp_prob += 1/2 * x1 + 5/6 * x2 <= 600\n",
        "lp_prob += x1 + 2/3 * x2 <= 708\n",
        "lp_prob += 1/10 * x1 + 1/4 * x2 <= 135\n",
        "\n",
        "# Display the problems\n",
        "print(lp_prob)\n",
        "\n",
        "# Solver\n",
        "status = lp_prob.solve()\n",
        "\n",
        "# The solution status \n",
        "print(p.LpStatus[status])\n",
        "\n",
        "# Printing the final solution\n",
        "print(p.value(x1), p.value(x2),  p.value(lp_prob.objective))"
      ],
      "execution_count": 5,
      "outputs": [
        {
          "output_type": "stream",
          "text": [
            "Problem:\n",
            "MAXIMIZE\n",
            "10*x1 + 9*x2 + 0\n",
            "SUBJECT TO\n",
            "_C1: 0.7 x1 + x2 <= 630\n",
            "\n",
            "_C2: 0.5 x1 + 0.833333333333 x2 <= 600\n",
            "\n",
            "_C3: x1 + 0.666666666667 x2 <= 708\n",
            "\n",
            "_C4: 0.1 x1 + 0.25 x2 <= 135\n",
            "\n",
            "VARIABLES\n",
            "x1 Continuous\n",
            "x2 Continuous\n",
            "\n",
            "Optimal\n",
            "540.0 252.0 7668.0\n"
          ],
          "name": "stdout"
        }
      ]
    },
    {
      "cell_type": "code",
      "metadata": {
        "id": "m-7P7R42TSck",
        "colab_type": "code",
        "colab": {
          "base_uri": "https://localhost:8080/",
          "height": 301
        },
        "outputId": "1c279829-f256-4172-e9cd-2839e23888ca"
      },
      "source": [
        "d = np.linspace(0, 1000, 1000)\n",
        "x1,x2 = np.meshgrid(d,d)\n",
        "plt.imshow(((x2<=630 - 0.7 * x1) & (0.5 * x1 <= 600 - 0.833333333333 * x2) & (x1 <= 708 - 0.666666666667 * x2) & (0.1 * x1 <= 135 - 0.25 * x2)).astype(int),\n",
        "extent=(x1.min(), x1.max(), x2.min(), x2.max()), origin =\"lower\", cmap=\"Greys\", alpha=0.3)\n",
        "\n",
        "# plot line constraints \n",
        "x = np.linspace(0,1000,300)\n",
        "y1 = 630 - 0.7*x\n",
        "y2 = 720 - 0.6*x\n",
        "y3 = 1062 - 1.5*x\n",
        "y4 = 540 - 0.4*x\n",
        "\n",
        "plt.plot(x,y1, label=r'$0.7x + y\\leq630$')\n",
        "plt.plot(x, y2, label=r'$0.6x + 0.833y\\leq720$')\n",
        "plt.plot(x,y3, label=r'$x + 0.667y\\leq708$')\n",
        "plt.plot(x, y4, label=r'$0.1x + 0.25y\\leq135$')\n",
        "plt.legend(bbox_to_anchor=(1.05,1), loc=2, borderaxespad=0.)\n",
        "\n",
        "plt.xlim((0,1000))\n",
        "plt.ylim((0,1000))\n",
        "plt.xlabel(r'$x$')\n",
        "plt.ylabel(r'$y$')\n"
      ],
      "execution_count": 6,
      "outputs": [
        {
          "output_type": "execute_result",
          "data": {
            "text/plain": [
              "Text(0, 0.5, '$y$')"
            ]
          },
          "metadata": {
            "tags": []
          },
          "execution_count": 6
        },
        {
          "output_type": "display_data",
          "data": {
            "image/png": "[encoded data removed]",
            "text/plain": [
              "<Figure size 432x288 with 1 Axes>"
            ]
          },
          "metadata": {
            "tags": [],
            "needs_background": "light"
          }
        }
      ]
    },
    {
      "cell_type": "markdown",
      "metadata": {
        "id": "LFXqamVNbOOk",
        "colab_type": "text"
      },
      "source": [
        "##**Volume  = Length (L) x Width (W) x Height (H)**\n",
        "\n",
        "##**Surface Area = (2 x L x W) + (2 x L x H) + (2 x W x H)**\n",
        "\n",
        "    \n",
        "Let say there is a box and we want to maximise the volume by changing the length, width and height of the box.\n",
        "\n",
        "\n",
        "### Volume = Length (L) x Width (W) x Height (H)\n",
        "### Surface Area = (2 x L x W) + (2 x L x H) + (2 x W x H)\n",
        "\n",
        "\n",
        "The surface area of the box is less than and equal to 10.\n",
        "(SA <= 10)\n",
        "\n",
        "\n",
        "Tasks:\n",
        "1. Define the volume and surface area as a function\n",
        "2. Define the objective function and constraints function\n",
        "\n",
        "\n",
        "The surface area of the box is less than and equal to 10.\n",
        "(SA <= 10)"
      ]
    },
    {
      "cell_type": "code",
      "metadata": {
        "id": "pf2_YPbqb5ox",
        "colab_type": "code",
        "colab": {}
      },
      "source": [
        "import numpy as np \n",
        "from scipy.optimize import minimize"
      ],
      "execution_count": 7,
      "outputs": []
    },
    {
      "cell_type": "code",
      "metadata": {
        "id": "uQqBXbo8USYC",
        "colab_type": "code",
        "colab": {}
      },
      "source": [
        "# Define the function to calculate hte volume of box \n",
        "def volume(x):\n",
        "  len_ = x[0]\n",
        "  width = x[1]\n",
        "  height = x[2]\n",
        "  return len_ * width * height"
      ],
      "execution_count": 8,
      "outputs": []
    },
    {
      "cell_type": "code",
      "metadata": {
        "id": "osk-EA2jbpEG",
        "colab_type": "code",
        "colab": {}
      },
      "source": [
        "# Define function to calculate the surface area (SA) of box\n",
        "def sa(x):\n",
        "  len_ = x[0]\n",
        "  width = x[1]\n",
        "  height = x[2]\n",
        "  return ((2 * len_ * width) + (2 * len_ * height) + (2 * width * height))"
      ],
      "execution_count": 9,
      "outputs": []
    },
    {
      "cell_type": "code",
      "metadata": {
        "id": "EBRqm91tbuA6",
        "colab_type": "code",
        "colab": {}
      },
      "source": [
        "# Define the objective function\n",
        "def obj(x):\n",
        "  return - volume(x)\n",
        "# when doing maximise set the value to negative\n",
        "\n",
        "# constraint SA(x) <=10\n",
        "def constraint(x):\n",
        "  return 10 - sa(x)\n",
        "\n",
        "# load constraints into dictionary form \n",
        "cons = ({\"type\": \"ineq\", \"fun\":constraint})"
      ],
      "execution_count": 10,
      "outputs": []
    },
    {
      "cell_type": "code",
      "metadata": {
        "id": "7-WE9Zvjb37U",
        "colab_type": "code",
        "colab": {}
      },
      "source": [
        "# set intial values for box dimensions\n",
        "len_0 = 1\n",
        "width_0 = 1\n",
        "height_0 = 1\n",
        "\n",
        "# load initial values into numpy array \n",
        "x0 = np.array([len_0, width_0, height_0])"
      ],
      "execution_count": 11,
      "outputs": []
    },
    {
      "cell_type": "code",
      "metadata": {
        "id": "Fa_tF7xFggZk",
        "colab_type": "code",
        "colab": {
          "base_uri": "https://localhost:8080/",
          "height": 105
        },
        "outputId": "3b7c5e0a-72e6-4cc4-b218-2ca2bb8db6a3"
      },
      "source": [
        "sol = minimize(obj, x0, method = \"SLSQP\", constraints=cons, options = {\"disp\": True})"
      ],
      "execution_count": 12,
      "outputs": [
        {
          "output_type": "stream",
          "text": [
            "Optimization terminated successfully.    (Exit mode 0)\n",
            "            Current function value: -2.151657414467269\n",
            "            Iterations: 4\n",
            "            Function evaluations: 21\n",
            "            Gradient evaluations: 4\n"
          ],
          "name": "stdout"
        }
      ]
    },
    {
      "cell_type": "code",
      "metadata": {
        "id": "srivMgIRiue3",
        "colab_type": "code",
        "colab": {}
      },
      "source": [
        "sol?"
      ],
      "execution_count": 13,
      "outputs": []
    },
    {
      "cell_type": "code",
      "metadata": {
        "id": "0XHmBNv1grAw",
        "colab_type": "code",
        "colab": {}
      },
      "source": [
        "# retrieve optimised box sizing and volume \n",
        "xOpt = sol.x\n",
        "volumeOpt = -sol.fun \n"
      ],
      "execution_count": 14,
      "outputs": []
    },
    {
      "cell_type": "code",
      "metadata": {
        "id": "-s_zCmR7hKca",
        "colab_type": "code",
        "colab": {}
      },
      "source": [
        "# calculate surface area with optimise values \n",
        "saOpt = sa(xOpt)\n",
        "volOpt = volume(xOpt)"
      ],
      "execution_count": 15,
      "outputs": []
    },
    {
      "cell_type": "code",
      "metadata": {
        "id": "ljGqvleQi8wz",
        "colab_type": "code",
        "colab": {
          "base_uri": "https://localhost:8080/",
          "height": 105
        },
        "outputId": "374011c5-e3e2-4e63-95bb-10cd8ddedcfa"
      },
      "source": [
        "print(f'Volume : {volOpt}')\n",
        "print(f'Surface Area : {saOpt}')\n",
        "print(f'Length : {xOpt[0]}')\n",
        "print(f'Width : {xOpt[1]}')\n",
        "print(f'Height : {xOpt[2]}')"
      ],
      "execution_count": 16,
      "outputs": [
        {
          "output_type": "stream",
          "text": [
            "Volume : 2.151657414467269\n",
            "Surface Area : 9.999999999713689\n",
            "Length : 1.2909944727867015\n",
            "Width : 1.290994455352175\n",
            "Height : 1.2909944180130968\n"
          ],
          "name": "stdout"
        }
      ]
    },
    {
      "cell_type": "markdown",
      "metadata": {
        "id": "otLbsRUuZUD3",
        "colab_type": "text"
      },
      "source": [
        "## Example 5 \n",
        "\n",
        "Snowball Problem\n",
        "\n",
        "How big a snowball should be after 30 seconds rolling down from a hilland to knock the tree down? Let say it take 25000N force to knock down a tree.\n",
        "\n",
        "\n",
        "\n",
        "\n"
      ]
    },
    {
      "cell_type": "markdown",
      "metadata": {
        "id": "ytildmXucHuE",
        "colab_type": "text"
      },
      "source": [
        "#### Given parameters:\n",
        "$\\mathrm{K}_{0}=85$\n",
        "\n",
        "Snowball growth factor 1\n",
        "\n",
        "beta $=0.07$\n",
        "\n",
        "$C_{-} d=0.3$\n",
        "\n",
        "drag coefficient\n",
        "\n",
        "$g=9$\n",
        "\n",
        "gravity\n",
        "\n",
        "rho $=350 \\quad$ #Snow density\n",
        "\n",
        "theta = np.radians(5) #slope\n",
        "\n",
        "rho $_{-} a=0.9$\n",
        "\n",
        "Air density\n",
        "\n",
        "Initial snowball conditions:\n",
        "\n",
        "$\\mathrm{m}_{0}=10$\n",
        "\n",
        "$\\mathrm{v}_{0}=0$\n",
        "\n",
        "$r_{0}=\\left(\\frac{m_{0}}{\\frac{4}{3} \\pi \\rho}\\right)^{\\frac{1}{3}}\n",
        "$ #Initial radius\n",
        "$\\mathrm{s}_{0}=0$\n",
        "\n",
        "\n",
        "#### Formula for radius:\n",
        "\n",
        "radius,r$=\\left(\\frac{m}{\\frac{4}{3} \\pi \\rho}\\right)^{\\frac{1}{3}}$\n",
        "\n"
      ]
    },
    {
      "cell_type": "markdown",
      "metadata": {
        "id": "LSiuYoWHcSSw",
        "colab_type": "text"
      },
      "source": [
        "\n",
        "#### Function for dynamic snowball:\n",
        "\n",
        "change in mass, \n",
        "\n",
        "$\\frac{\\mathrm{dm}}{\\mathrm{dt}}=\\beta K_{0} e^{-\\beta t}$\n",
        "change in radius, \n",
        "\n",
        "$\\frac{\\mathrm{dr}}{\\mathrm{dt}}=\\frac{\\beta K_{0} e^{-\\beta t}}{4 \\pi p r^{2}}$\n",
        "change in position, \n",
        "\n",
        "$\\frac{\\mathrm{ds}}{\\mathrm{dt}}=v$ change in velocity, \n",
        "\n",
        "$\\frac{\\mathrm{dv}}{\\mathrm{dt}}=\\frac{-15 p_{a} C_{d}}{56 p}\\left(\\frac{1}{r}\\right) v^{2}-\\left(\\frac{23}{7}\\right)\\left(\\frac{1}{r}\\right)\\left(\\frac{\\beta K_{0} e^{-\\beta t}}{4 \\pi p r^{2}}\\right) v+\\frac{5}{7} g \\cdot \\sin (\\theta)$\n"
      ]
    },
    {
      "cell_type": "markdown",
      "metadata": {
        "id": "2Kpt9NeKcXm7",
        "colab_type": "text"
      },
      "source": [
        "\n",
        "#### Function for objective function:\n",
        "\n",
        "\n",
        "Kinetic Energy, $E_{k}=\\frac{1}{2} m v^{2}$\n",
        "\n",
        "\n",
        "Impact Force, $F=\\frac{E_{k}}{r}$\n",
        "\n",
        "\n",
        "Objective function to minimise $(F-25000)^{2}$"
      ]
    },
    {
      "cell_type": "code",
      "metadata": {
        "id": "zNdL8oVwjnbh",
        "colab_type": "code",
        "colab": {}
      },
      "source": [
        "from scipy.integrate import odeint \n",
        "from scipy.optimize import minimize"
      ],
      "execution_count": 91,
      "outputs": []
    },
    {
      "cell_type": "code",
      "metadata": {
        "id": "eM_nuL-4Z0GD",
        "colab_type": "code",
        "colab": {}
      },
      "source": [
        "# define the parameters\n",
        "K0 = 85\n",
        "beta = 0.07\n",
        "C_d = 0.3\n",
        "g = 9.8\n",
        "rho = 350\n",
        "theta = np.radians(5)\n",
        "rho_a = 0.9\n",
        "\n",
        "# initial snowball conditions \n",
        "m0 = 10\n",
        "v0 = 0\n",
        "r0 = (m0/(4/3.0* np.pi *rho))**(1/3.0)\n",
        "s0 = 0\n",
        "\n",
        "# Target Force \n",
        "F_d = 25000\n",
        "\n",
        "# Set up time array to solce for 30 seconds \n",
        "t = np.linspace(0,30)"
      ],
      "execution_count": 92,
      "outputs": []
    },
    {
      "cell_type": "code",
      "metadata": {
        "id": "3QvbANpNccQE",
        "colab_type": "code",
        "colab": {}
      },
      "source": [
        "# define the function of dynamics snowball, the equations of motion\n",
        "def snowball_dynamics(w,t,p):\n",
        "   \n",
        "    #Unpack state variables\n",
        "    M, r, s, v = w\n",
        "   \n",
        "    #Unpack parameters\n",
        "    K0, C_d, g, rho, theta, rho_a, beta = p\n",
        "   \n",
        "    #Make an array of the right hand sides of the four differential equations that make up our system\n",
        "    f = [beta * K0 * np.exp(-beta*t),\n",
        "        (beta * K0 * np.exp(-beta*t))/(4*np.pi*rho*r**2),\n",
        "        v,\n",
        "        (-15*rho_a*C_d)/(56*rho)*1/r*v**2-23/7*1/r*beta*K0*np.exp(-beta*t)/(4*np.pi*rho*r**2)*v+5/7*g*np.sin(theta)]\n",
        "    return f"
      ],
      "execution_count": 93,
      "outputs": []
    },
    {
      "cell_type": "code",
      "metadata": {
        "id": "E4vFnvUsgqp8",
        "colab_type": "code",
        "colab": {}
      },
      "source": [
        "#Define the objective function, minimize the output of this function by changing the initial snowball mass\n",
        "def objective(m0):\n",
        "  #load parameters\n",
        "  p = [m0, C_d, g, rho, theta, rho_a, beta]\n",
        "  #get the initial radius from initial mass\n",
        "  r0 = (m0/(4/3.0*np.pi*rho))**(1/3.0)\n",
        "  #set initial guesses\n",
        "  w0 = [m0, r0, s0, v0]\n",
        "  #integrate forward for 30 seconds\n",
        "  sol = odeint(snowball_dynamics, w0, t, args=(p,))\n",
        "  #calculate kinetic energy at the end of the run\n",
        "  ke = 0.5 * sol[:,0][-1]* sol[:,3][-1]**2\n",
        "  #calculate force required to stop snowball in one snowball radius\n",
        "  F = ke/ sol[:,1][-1]\n",
        "  #Compare to desired force: This ishould be equal to zero when we are done\n",
        "  obj = (F - F_d)**2\n",
        "  return obj"
      ],
      "execution_count": 97,
      "outputs": []
    },
    {
      "cell_type": "code",
      "metadata": {
        "id": "P1B1A3fLnHFq",
        "colab_type": "code",
        "colab": {
          "base_uri": "https://localhost:8080/",
          "height": 141
        },
        "outputId": "94853238-1ccc-467f-a5b1-23d1635c1beb"
      },
      "source": [
        "# Call optimisation using the function defined above\n",
        "res = minimize(objective, m0, options ={\"disp\": True})\n",
        "\n",
        "# Get the optimized initial mass from solution \n",
        "m0_opt = res.x[0]\n",
        "\n",
        "# calculate the optimised initial radius from the initial mass\n",
        "r0_opt = (m0_opt/(4/3.0*np.pi*rho))**(1/3.0)\n",
        "\n",
        "print(f'Initial mass : {m0_opt}kg {m0_opt*2.02}lbs')\n",
        "print(f'Initial radiues : {r0_opt*100}cm  {r0_opt*39.37}inches')"
      ],
      "execution_count": 98,
      "outputs": [
        {
          "output_type": "stream",
          "text": [
            "Optimization terminated successfully.\n",
            "         Current function value: 0.000000\n",
            "         Iterations: 9\n",
            "         Function evaluations: 33\n",
            "         Gradient evaluations: 11\n",
            "Initial mass : 54.4727546940319kg 110.03496448194444lbs\n",
            "Initial radiues : 33.36882350231841cm  13.137305812862758inches\n"
          ],
          "name": "stdout"
        }
      ]
    },
    {
      "cell_type": "code",
      "metadata": {
        "id": "YZ8KK2Djrh0F",
        "colab_type": "code",
        "colab": {}
      },
      "source": [
        ""
      ],
      "execution_count": 54,
      "outputs": []
    }
  ]
}