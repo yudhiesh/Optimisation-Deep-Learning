{
  "nbformat": 4,
  "nbformat_minor": 0,
  "metadata": {
    "colab": {
      "name": "NonLinearRegression.ipynb",
      "provenance": [],
      "authorship_tag": "ABX9TyObVLukVTzdmx3X95fakITW",
      "include_colab_link": true
    },
    "kernelspec": {
      "name": "python3",
      "display_name": "Python 3"
    }
  },
  "cells": [
    {
      "cell_type": "markdown",
      "metadata": {
        "id": "view-in-github",
        "colab_type": "text"
      },
      "source": [
        "<a href=\"https://colab.research.google.com/github/yudhiesh1997/Optimisation-Deep-Learning/blob/master/NonLinearRegression.ipynb\" target=\"_parent\"><img src=\"https://colab.research.google.com/assets/colab-badge.svg\" alt=\"Open In Colab\"/></a>"
      ]
    },
    {
      "cell_type": "code",
      "metadata": {
        "id": "7J4hfTdM6Nwk",
        "colab_type": "code",
        "colab": {}
      },
      "source": [
        "import matplotlib.pyplot as plt\n",
        "import numpy as np \n",
        "from sklearn.metrics import mean_squared_error, r2_score \n",
        "from sklearn.linear_model import LinearRegression\n",
        "from sklearn.preprocessing import PolynomialFeatures\n",
        "import pandas as pd "
      ],
      "execution_count": 2,
      "outputs": []
    },
    {
      "cell_type": "code",
      "metadata": {
        "id": "Olk8JA06BDhX",
        "colab_type": "code",
        "colab": {}
      },
      "source": [
        "path = \"/content/yield.csv\"\n",
        "df = pd.read_csv(path)"
      ],
      "execution_count": 3,
      "outputs": []
    },
    {
      "cell_type": "code",
      "metadata": {
        "id": "Y5NEFuxRBRJF",
        "colab_type": "code",
        "colab": {
          "base_uri": "https://localhost:8080/",
          "height": 347
        },
        "outputId": "ca1e5957-20cb-4a16-afb7-9529f9762bc4"
      },
      "source": [
        "df.head(10)"
      ],
      "execution_count": 4,
      "outputs": [
        {
          "output_type": "execute_result",
          "data": {
            "text/html": [
              "<div>\n",
              "<style scoped>\n",
              "    .dataframe tbody tr th:only-of-type {\n",
              "        vertical-align: middle;\n",
              "    }\n",
              "\n",
              "    .dataframe tbody tr th {\n",
              "        vertical-align: top;\n",
              "    }\n",
              "\n",
              "    .dataframe thead th {\n",
              "        text-align: right;\n",
              "    }\n",
              "</style>\n",
              "<table border=\"1\" class=\"dataframe\">\n",
              "  <thead>\n",
              "    <tr style=\"text-align: right;\">\n",
              "      <th></th>\n",
              "      <th>Temp</th>\n",
              "      <th>Yield</th>\n",
              "    </tr>\n",
              "  </thead>\n",
              "  <tbody>\n",
              "    <tr>\n",
              "      <th>0</th>\n",
              "      <td>50</td>\n",
              "      <td>3.3</td>\n",
              "    </tr>\n",
              "    <tr>\n",
              "      <th>1</th>\n",
              "      <td>50</td>\n",
              "      <td>2.8</td>\n",
              "    </tr>\n",
              "    <tr>\n",
              "      <th>2</th>\n",
              "      <td>50</td>\n",
              "      <td>2.9</td>\n",
              "    </tr>\n",
              "    <tr>\n",
              "      <th>3</th>\n",
              "      <td>70</td>\n",
              "      <td>2.3</td>\n",
              "    </tr>\n",
              "    <tr>\n",
              "      <th>4</th>\n",
              "      <td>70</td>\n",
              "      <td>2.6</td>\n",
              "    </tr>\n",
              "    <tr>\n",
              "      <th>5</th>\n",
              "      <td>70</td>\n",
              "      <td>2.1</td>\n",
              "    </tr>\n",
              "    <tr>\n",
              "      <th>6</th>\n",
              "      <td>80</td>\n",
              "      <td>2.5</td>\n",
              "    </tr>\n",
              "    <tr>\n",
              "      <th>7</th>\n",
              "      <td>80</td>\n",
              "      <td>2.9</td>\n",
              "    </tr>\n",
              "    <tr>\n",
              "      <th>8</th>\n",
              "      <td>80</td>\n",
              "      <td>2.4</td>\n",
              "    </tr>\n",
              "    <tr>\n",
              "      <th>9</th>\n",
              "      <td>90</td>\n",
              "      <td>3.0</td>\n",
              "    </tr>\n",
              "  </tbody>\n",
              "</table>\n",
              "</div>"
            ],
            "text/plain": [
              "   Temp  Yield\n",
              "0    50    3.3\n",
              "1    50    2.8\n",
              "2    50    2.9\n",
              "3    70    2.3\n",
              "4    70    2.6\n",
              "5    70    2.1\n",
              "6    80    2.5\n",
              "7    80    2.9\n",
              "8    80    2.4\n",
              "9    90    3.0"
            ]
          },
          "metadata": {
            "tags": []
          },
          "execution_count": 4
        }
      ]
    },
    {
      "cell_type": "code",
      "metadata": {
        "id": "2qTIljMyBSUb",
        "colab_type": "code",
        "colab": {}
      },
      "source": [
        "X = df[\"Temp\"]\n",
        "y = df[\"Yield\"]"
      ],
      "execution_count": 5,
      "outputs": []
    },
    {
      "cell_type": "code",
      "metadata": {
        "id": "MuZT8lAlBWa4",
        "colab_type": "code",
        "colab": {
          "base_uri": "https://localhost:8080/",
          "height": 294
        },
        "outputId": "31bc725d-80a8-49ef-e2d0-51f1424e9c6b"
      },
      "source": [
        "plt.scatter(X,y, s=10)\n",
        "plt.xlabel(\"Temp\")\n",
        "plt.ylabel(\"Yield\")\n",
        "plt.title(\"Yield vs Temp\")\n",
        "plt.show()"
      ],
      "execution_count": 10,
      "outputs": [
        {
          "output_type": "display_data",
          "data": {
            "image/png": "[encoded data removed]",
            "text/plain": [
              "<Figure size 432x288 with 1 Axes>"
            ]
          },
          "metadata": {
            "tags": [],
            "needs_background": "light"
          }
        }
      ]
    },
    {
      "cell_type": "code",
      "metadata": {
        "id": "jCMiV1AMBZZQ",
        "colab_type": "code",
        "colab": {}
      },
      "source": [
        "X = X.values.reshape(-1,1)"
      ],
      "execution_count": 11,
      "outputs": []
    },
    {
      "cell_type": "code",
      "metadata": {
        "id": "Ya-pOV98CRk_",
        "colab_type": "code",
        "colab": {}
      },
      "source": [
        "poly_features = PolynomialFeatures(degree=2, include_bias=False)\n",
        "\n",
        "x_poly = poly_features.fit_transform(X)"
      ],
      "execution_count": 12,
      "outputs": []
    },
    {
      "cell_type": "code",
      "metadata": {
        "id": "DHoavll3ChaJ",
        "colab_type": "code",
        "colab": {
          "base_uri": "https://localhost:8080/",
          "height": 34
        },
        "outputId": "8ce57c13-5da1-492a-ede0-f43b8f6d3f7e"
      },
      "source": [
        "lin_reg = LinearRegression(normalize=True, n_jobs=-1)\n",
        "\n",
        "lin_reg.fit(x_poly, y)"
      ],
      "execution_count": 13,
      "outputs": [
        {
          "output_type": "execute_result",
          "data": {
            "text/plain": [
              "LinearRegression(copy_X=True, fit_intercept=True, n_jobs=-1, normalize=True)"
            ]
          },
          "metadata": {
            "tags": []
          },
          "execution_count": 13
        }
      ]
    },
    {
      "cell_type": "code",
      "metadata": {
        "id": "zI_hU5DcCuSg",
        "colab_type": "code",
        "colab": {
          "base_uri": "https://localhost:8080/",
          "height": 87
        },
        "outputId": "445526b3-236f-42c7-9e98-42d62887f02b"
      },
      "source": [
        "print(f'Coefficients {lin_reg.coef_}')\n",
        "print(f'Intercept {lin_reg.intercept_}')\n",
        "y_pred = lin_reg.predict(x_poly)\n",
        "print(f'MSE : {mean_squared_error(y_pred, y)}')\n",
        "print(f'R2 score : {r2_score(y, y_pred)}')"
      ],
      "execution_count": 16,
      "outputs": [
        {
          "output_type": "stream",
          "text": [
            "Coefficients [-0.15371134  0.0010756 ]\n",
            "Intercept 7.9604810996563495\n",
            "MSE : 0.04778465063001155\n",
            "R2 score : 0.6732052768464256\n"
          ],
          "name": "stdout"
        }
      ]
    },
    {
      "cell_type": "code",
      "metadata": {
        "id": "We3j22A8DQrE",
        "colab_type": "code",
        "colab": {
          "base_uri": "https://localhost:8080/",
          "height": 294
        },
        "outputId": "c6168455-1b4f-4adc-e2cf-367bb158b847"
      },
      "source": [
        "plt.scatter(X,y, s=10)\n",
        "plt.plot(X, lin_reg.predict(x_poly), color=\"r\")\n",
        "plt.xlabel(\"Temp\")\n",
        "plt.ylabel(\"Yield\")\n",
        "plt.title(\"Yield vs Temp\")\n",
        "plt.show()"
      ],
      "execution_count": 17,
      "outputs": [
        {
          "output_type": "display_data",
          "data": {
            "image/png": "[encoded data removed]",
            "text/plain": [
              "<Figure size 432x288 with 1 Axes>"
            ]
          },
          "metadata": {
            "tags": [],
            "needs_background": "light"
          }
        }
      ]
    },
    {
      "cell_type": "code",
      "metadata": {
        "id": "VJErzaJVI6UD",
        "colab_type": "code",
        "colab": {}
      },
      "source": [
        "from sklearn import datasets"
      ],
      "execution_count": 68,
      "outputs": []
    },
    {
      "cell_type": "code",
      "metadata": {
        "id": "oO8zG5iEJggG",
        "colab_type": "code",
        "colab": {}
      },
      "source": [
        "diabetes = datasets.load_diabetes()\n"
      ],
      "execution_count": 69,
      "outputs": []
    },
    {
      "cell_type": "code",
      "metadata": {
        "id": "awuEUCwYJ98a",
        "colab_type": "code",
        "colab": {
          "base_uri": "https://localhost:8080/",
          "height": 34
        },
        "outputId": "96e66ede-59c3-4ed7-c6fb-bcf3294ae7aa"
      },
      "source": [
        "lin_reg2 = LinearRegression(normalize=True)\n",
        "lin_reg2.fit(diabetes.data, diabetes.target)"
      ],
      "execution_count": 70,
      "outputs": [
        {
          "output_type": "execute_result",
          "data": {
            "text/plain": [
              "LinearRegression(copy_X=True, fit_intercept=True, n_jobs=None, normalize=True)"
            ]
          },
          "metadata": {
            "tags": []
          },
          "execution_count": 70
        }
      ]
    },
    {
      "cell_type": "code",
      "metadata": {
        "id": "Q649xF5pKLBh",
        "colab_type": "code",
        "colab": {
          "base_uri": "https://localhost:8080/",
          "height": 105
        },
        "outputId": "3cdb9d4b-fae6-4022-ac1f-a79940440945"
      },
      "source": [
        "print(f'Coefficients {lin_reg2.coef_}')\n",
        "print(f'Intercept {lin_reg2.intercept_}')\n",
        "y_pred2 = lin_reg2.predict(diabetes.data)\n",
        "print(f'MSE : {mean_squared_error(y_pred2, diabetes.target)}')\n",
        "print(f'R2 score : {r2_score(diabetes.target, y_pred2)}')"
      ],
      "execution_count": 71,
      "outputs": [
        {
          "output_type": "stream",
          "text": [
            "Coefficients [ -10.01219782 -239.81908937  519.83978679  324.39042769 -792.18416163\n",
            "  476.74583782  101.04457032  177.06417623  751.27932109   67.62538639]\n",
            "Intercept 152.1334841628965\n",
            "MSE : 2859.6903987680653\n",
            "R2 score : 0.5177494254132935\n"
          ],
          "name": "stdout"
        }
      ]
    },
    {
      "cell_type": "code",
      "metadata": {
        "id": "R4wAiPy0KWGc",
        "colab_type": "code",
        "colab": {}
      },
      "source": [
        "x = poly_features.fit_transform(diabetes.data)"
      ],
      "execution_count": 72,
      "outputs": []
    },
    {
      "cell_type": "code",
      "metadata": {
        "id": "21eEOHrmKdpB",
        "colab_type": "code",
        "colab": {
          "base_uri": "https://localhost:8080/",
          "height": 34
        },
        "outputId": "95581702-5380-471b-e64e-cd724394be28"
      },
      "source": [
        "lin_reg3 = LinearRegression(normalize=True)\n",
        "lin_reg3.fit(x, diabetes.target)"
      ],
      "execution_count": 73,
      "outputs": [
        {
          "output_type": "execute_result",
          "data": {
            "text/plain": [
              "LinearRegression(copy_X=True, fit_intercept=True, n_jobs=None, normalize=True)"
            ]
          },
          "metadata": {
            "tags": []
          },
          "execution_count": 73
        }
      ]
    },
    {
      "cell_type": "code",
      "metadata": {
        "id": "i6mhHef6KlwE",
        "colab_type": "code",
        "colab": {
          "base_uri": "https://localhost:8080/",
          "height": 372
        },
        "outputId": "9f0f5ae1-c6b2-4049-d986-4faf361b5c7f"
      },
      "source": [
        "print(f'Coefficients {lin_reg3.coef_}')\n",
        "print(f'Intercept {lin_reg3.intercept_}')\n",
        "y_pred3 = lin_reg3.predict(x)\n",
        "print(f'MSE : {mean_squared_error(y_pred3, diabetes.target)}')\n",
        "print(f'R2 score : {r2_score(diabetes.target, y_pred3)}')"
      ],
      "execution_count": 74,
      "outputs": [
        {
          "output_type": "stream",
          "text": [
            "Coefficients [ 5.07214108e+01 -3.74026398e+12  4.60686735e+02  3.42947470e+02\n",
            " -3.59955138e+03  3.02830052e+03  1.10308258e+03  7.50180563e+01\n",
            "  1.82815631e+03  6.28093794e+01  1.23766284e+03  3.17928353e+03\n",
            " -3.79393219e+02  4.15707934e+02 -3.25507472e+03 -1.41260174e+03\n",
            "  4.87087376e+03  4.00058013e+03  2.62805954e+03  1.39939767e+03\n",
            "  6.19404651e+14  1.37046662e+03  1.93017383e+03  9.07156621e+03\n",
            " -7.45536414e+03 -2.86212714e+03 -2.90549221e+03 -2.52731772e+03\n",
            "  9.85124358e+02  6.68355648e+02  3.06254998e+03 -6.57881416e+03\n",
            "  5.32023232e+03  2.73034326e+03 -7.32286068e+02  2.52838947e+03\n",
            "  4.87125629e+02 -1.47872814e+02  1.03278156e+04 -7.12376902e+03\n",
            " -3.85437699e+03 -1.26080144e+03 -3.47049006e+03 -2.71055497e+03\n",
            "  9.41632597e+04 -1.30895055e+05 -8.68560898e+04 -3.82840087e+04\n",
            " -7.96672145e+04 -3.90504765e+03  4.68878110e+04  5.72287293e+04\n",
            "  1.89590072e+04  6.10763749e+04  1.83469679e+03  2.11734044e+04\n",
            "  2.23183990e+04  3.31640971e+04  4.89336281e+03  1.04374155e+04\n",
            "  7.58001225e+03  4.63381035e+03  2.24163615e+04  1.65491669e+03\n",
            "  1.61040934e+03]\n",
            "Intercept -1401367989559.3467\n",
            "MSE : 2416.7891421173763\n",
            "R2 score : 0.5924391140582537\n"
          ],
          "name": "stdout"
        }
      ]
    },
    {
      "cell_type": "code",
      "metadata": {
        "id": "rwTE401LKs1C",
        "colab_type": "code",
        "colab": {
          "base_uri": "https://localhost:8080/",
          "height": 70
        },
        "outputId": "999b5f9f-fd53-4eec-b6c5-43405a223c45"
      },
      "source": [
        "from sklearn.linear_model import Lasso\n",
        "\n",
        "lasso = Lasso(alpha=0.1)\n",
        "lasso.fit(diabetes.data, diabetes.target)"
      ],
      "execution_count": 76,
      "outputs": [
        {
          "output_type": "execute_result",
          "data": {
            "text/plain": [
              "Lasso(alpha=0.1, copy_X=True, fit_intercept=True, max_iter=1000,\n",
              "      normalize=False, positive=False, precompute=False, random_state=None,\n",
              "      selection='cyclic', tol=0.0001, warm_start=False)"
            ]
          },
          "metadata": {
            "tags": []
          },
          "execution_count": 76
        }
      ]
    },
    {
      "cell_type": "code",
      "metadata": {
        "id": "h_CHTccmL6Zo",
        "colab_type": "code",
        "colab": {
          "base_uri": "https://localhost:8080/",
          "height": 105
        },
        "outputId": "69245ea5-d825-45d9-8389-9c045fcadb65"
      },
      "source": [
        "print(f'Coefficients {lasso.coef_}')\n",
        "print(f'Intercept {lasso.intercept_}')\n",
        "y_pred4 = lasso.predict(diabetes.data)\n",
        "print(f'MSE : {mean_squared_error(y_pred4, diabetes.target)}')\n",
        "print(f'R2 score : {r2_score(diabetes.target, y_pred4)}')"
      ],
      "execution_count": 77,
      "outputs": [
        {
          "output_type": "stream",
          "text": [
            "Coefficients [  -0.         -155.36288234  517.18201661  275.08235083  -52.54026923\n",
            "   -0.         -210.15975349    0.          483.91440913   33.67282148]\n",
            "Intercept 152.13348416289642\n",
            "MSE : 2912.5217951175455\n",
            "R2 score : 0.5088400794027146\n"
          ],
          "name": "stdout"
        }
      ]
    },
    {
      "cell_type": "code",
      "metadata": {
        "id": "AsNN1OsoMeyG",
        "colab_type": "code",
        "colab": {}
      },
      "source": [
        "from sklearn.svm import SVR"
      ],
      "execution_count": 80,
      "outputs": []
    },
    {
      "cell_type": "code",
      "metadata": {
        "id": "Tr8mcgiJM6KT",
        "colab_type": "code",
        "colab": {
          "base_uri": "https://localhost:8080/",
          "height": 52
        },
        "outputId": "3cc838b3-f1e0-44b3-e898-a96f30633447"
      },
      "source": [
        "svr = SVR(epsilon=0.2)\n",
        "svr.fit(diabetes.data, diabetes.target)"
      ],
      "execution_count": 81,
      "outputs": [
        {
          "output_type": "execute_result",
          "data": {
            "text/plain": [
              "SVR(C=1.0, cache_size=200, coef0=0.0, degree=3, epsilon=0.2, gamma='scale',\n",
              "    kernel='rbf', max_iter=-1, shrinking=True, tol=0.001, verbose=False)"
            ]
          },
          "metadata": {
            "tags": []
          },
          "execution_count": 81
        }
      ]
    },
    {
      "cell_type": "code",
      "metadata": {
        "id": "LGGVWe-fNOWc",
        "colab_type": "code",
        "colab": {
          "base_uri": "https://localhost:8080/",
          "height": 52
        },
        "outputId": "a6f0651a-704a-425f-d78e-b8417d13a799"
      },
      "source": [
        "y_pred_svr = svr.predict(diabetes.data)\n",
        "print(f'MSE : {mean_squared_error(y_pred_svr, diabetes.target)}')\n",
        "print(f'R2 score : {r2_score(diabetes.target, y_pred_svr)}')"
      ],
      "execution_count": 82,
      "outputs": [
        {
          "output_type": "stream",
          "text": [
            "MSE : 4700.555124426982\n",
            "R2 score : 0.20731089959670423\n"
          ],
          "name": "stdout"
        }
      ]
    },
    {
      "cell_type": "markdown",
      "metadata": {
        "id": "TZDTP9SrNtKz",
        "colab_type": "text"
      },
      "source": [
        "## Conclusion: Transforming the data to a polynomial helps in reducing the MSE "
      ]
    },
    {
      "cell_type": "code",
      "metadata": {
        "id": "XY_417xVNzQB",
        "colab_type": "code",
        "colab": {}
      },
      "source": [
        ""
      ],
      "execution_count": null,
      "outputs": []
    }
  ]
}