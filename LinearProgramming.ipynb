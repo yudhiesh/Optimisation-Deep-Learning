{
 "cells": [
  {
   "cell_type": "code",
   "execution_count": 1,
   "metadata": {},
   "outputs": [
    {
     "data": {
      "text/plain": [
       "      fun: -0.9999999999982316\n",
       " hess_inv: array([[ 1.00047155e+00, -4.71428602e-04],\n",
       "       [-4.71428602e-04,  1.00047131e+00]])\n",
       "      jac: array([-1.33365393e-06,  1.32620335e-06])\n",
       "  message: 'Optimization terminated successfully.'\n",
       "     nfev: 36\n",
       "      nit: 3\n",
       "     njev: 9\n",
       "   status: 0\n",
       "  success: True\n",
       "        x: array([ 1.57079498, -1.57079501])"
      ]
     },
     "execution_count": 1,
     "metadata": {},
     "output_type": "execute_result"
    }
   ],
   "source": [
    "import numpy as np \n",
    "from scipy.optimize import minimize  \n",
    "def func(xy):\n",
    "    x, y = xy\n",
    "    return np.sin(x)* np.sin(y)\n",
    "minimize(func, (0.1,-0.1))"
   ]
  },
  {
   "cell_type": "markdown",
   "metadata": {},
   "source": [
    "Example 2: Linear Programming \n",
    "Minimize : Z = 3x + 5y \n",
    "\n",
    "Constraints: \n",
    "\n",
    "2x + 3y >= 12\n",
    "\n",
    "-x + y <= 3\n",
    "\n",
    "x >= 4\n",
    "\n",
    "y <= 3\n",
    "\n",
    "x,y >= 0\n"
   ]
  },
  {
   "cell_type": "code",
   "execution_count": 5,
   "metadata": {},
   "outputs": [
    {
     "name": "stdout",
     "output_type": "stream",
     "text": [
      "Problem:\n",
      "MINIMIZE\n",
      "3*x + 5*y + 0\n",
      "SUBJECT TO\n",
      "_C1: 2 x + 3 y >= 12\n",
      "\n",
      "_C2: - x + y <= 3\n",
      "\n",
      "_C3: x >= 4\n",
      "\n",
      "_C4: y <= 3\n",
      "\n",
      "VARIABLES\n",
      "x Continuous\n",
      "y Continuous\n",
      "\n",
      "Optimal\n",
      "6.0 0.0 18.0\n"
     ]
    }
   ],
   "source": [
    "import pulp as p\n",
    "\n",
    "# Create a LP minimization problem \n",
    "lp_prob = p.LpProblem(\"Problem\", p.LpMinimize)\n",
    "\n",
    "# Create the problem variables \n",
    "x = p.LpVariable(\"x\", lowBound = 0)\n",
    "y = p.LpVariable(\"y\", lowBound = 0)\n",
    "\n",
    "# Objective functions \n",
    "lp_prob += 3 * x + 5 * y\n",
    "\n",
    "# Constraints\n",
    "lp_prob += 2 * x + 3 * y >= 12\n",
    "lp_prob += -x + y <= 3\n",
    "lp_prob += x >= 4\n",
    "lp_prob += y <= 3\n",
    "\n",
    "# Display the problems\n",
    "print(lp_prob)\n",
    "\n",
    "# Solver\n",
    "status = lp_prob.solve()\n",
    "\n",
    "# The solution status \n",
    "print(p.LpStatus[status])\n",
    "\n",
    "# Printing the final solution\n",
    "print(p.value(x), p.value(y),  p.value(lp_prob.objective))"
   ]
  },
  {
   "cell_type": "code",
   "execution_count": 6,
   "metadata": {},
   "outputs": [
    {
     "name": "stdout",
     "output_type": "stream",
     "text": [
      "Problem:\n",
      "MAXIMIZE\n",
      "3*x + 5*y + 0\n",
      "SUBJECT TO\n",
      "_C1: 2 x + 3 y >= 12\n",
      "\n",
      "_C2: - x + y <= 3\n",
      "\n",
      "_C3: x >= 4\n",
      "\n",
      "_C4: y <= 3\n",
      "\n",
      "VARIABLES\n",
      "x Continuous\n",
      "y Continuous\n",
      "\n",
      "Unbounded\n",
      "4.0 3.0 27.0\n"
     ]
    }
   ],
   "source": [
    "# Create a LP minimization problem \n",
    "lp_prob = p.LpProblem(\"Problem\", p.LpMaximize)\n",
    "\n",
    "# Create the problem variables \n",
    "x = p.LpVariable(\"x\", lowBound = 0)\n",
    "y = p.LpVariable(\"y\", lowBound = 0)\n",
    "\n",
    "# Objective functions \n",
    "lp_prob += 3 * x + 5 * y\n",
    "\n",
    "# Constraints\n",
    "lp_prob += 2 * x + 3 * y >= 12\n",
    "lp_prob += -x + y <= 3\n",
    "lp_prob += x >= 4\n",
    "lp_prob += y <= 3\n",
    "\n",
    "# Display the problems\n",
    "print(lp_prob)\n",
    "\n",
    "# Solver\n",
    "status = lp_prob.solve()\n",
    "\n",
    "# The solution status \n",
    "print(p.LpStatus[status])\n",
    "\n",
    "# Printing the final solution\n",
    "print(p.value(x), p.value(y),  p.value(lp_prob.objective))"
   ]
  },
  {
   "cell_type": "code",
   "execution_count": 13,
   "metadata": {},
   "outputs": [
    {
     "name": "stdout",
     "output_type": "stream",
     "text": [
      "Problem:\n",
      "MAXIMIZE\n",
      "10*x1 + 9*x2 + 0\n",
      "SUBJECT TO\n",
      "_C1: 0.7 x1 + x2 <= 630\n",
      "\n",
      "_C2: 0.5 x1 + 0.833333333333 x2 <= 600\n",
      "\n",
      "_C3: x1 + 0.666666666667 x2 <= 708\n",
      "\n",
      "_C4: 0.1 x1 + 0.25 x2 <= 135\n",
      "\n",
      "VARIABLES\n",
      "x1 Continuous\n",
      "x2 Continuous\n",
      "\n",
      "Optimal\n",
      "540.0 252.0 7668.0\n"
     ]
    }
   ],
   "source": [
    "# Create a LP minimization problem \n",
    "lp_prob = p.LpProblem(\"Problem\", p.LpMaximize)\n",
    "\n",
    "# Create the problem variables \n",
    "x1 = p.LpVariable(\"x1\", lowBound = 0)\n",
    "x2 = p.LpVariable(\"x2\", lowBound = 0)\n",
    "\n",
    "# Objective functions \n",
    "lp_prob += 10 * x1 + 9 * x2\n",
    "\n",
    "# Constraints\n",
    "lp_prob += 7/10 * x1 + x2 <= 630\n",
    "lp_prob += 1/2 * x1 + 5/6 * x2 <= 600\n",
    "lp_prob += x1 + 2/3 * x2 <= 708\n",
    "lp_prob += 1/10 * x1 + 1/4 * x2 <= 135\n",
    "\n",
    "# Display the problems\n",
    "print(lp_prob)\n",
    "\n",
    "# Solver\n",
    "status = lp_prob.solve()\n",
    "\n",
    "# The solution status \n",
    "print(p.LpStatus[status])\n",
    "\n",
    "# Printing the final solution\n",
    "print(p.value(x1), p.value(x2),  p.value(lp_prob.objective))"
   ]
  },
  {
   "cell_type": "code",
   "execution_count": null,
   "metadata": {},
   "outputs": [],
   "source": []
  }
 ],
 "metadata": {
  "kernelspec": {
   "display_name": "Python 3",
   "language": "python",
   "name": "python3"
  },
  "language_info": {
   "codemirror_mode": {
    "name": "ipython",
    "version": 3
   },
   "file_extension": ".py",
   "mimetype": "text/x-python",
   "name": "python",
   "nbconvert_exporter": "python",
   "pygments_lexer": "ipython3",
   "version": "3.7.3"
  }
 },
 "nbformat": 4,
 "nbformat_minor": 4
}
