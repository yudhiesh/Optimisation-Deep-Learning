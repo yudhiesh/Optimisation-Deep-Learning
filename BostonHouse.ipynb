{
  "nbformat": 4,
  "nbformat_minor": 0,
  "metadata": {
    "colab": {
      "name": "BostonHouse.ipynb",
      "provenance": [],
      "authorship_tag": "ABX9TyOwCUbPhdzgodOQaBbNReVr",
      "include_colab_link": true
    },
    "kernelspec": {
      "name": "python3",
      "display_name": "Python 3"
    }
  },
  "cells": [
    {
      "cell_type": "markdown",
      "metadata": {
        "id": "view-in-github",
        "colab_type": "text"
      },
      "source": [
        "<a href=\"https://colab.research.google.com/github/yudhiesh1997/Optimisation-Deep-Learning/blob/master/BostonHouse.ipynb\" target=\"_parent\"><img src=\"https://colab.research.google.com/assets/colab-badge.svg\" alt=\"Open In Colab\"/></a>"
      ]
    },
    {
      "cell_type": "code",
      "metadata": {
        "id": "GyPKMk9wRY2u",
        "colab_type": "code",
        "colab": {}
      },
      "source": [
        "import pandas as pd \n",
        "import matplotlib.pyplot as plt\n",
        "import numpy "
      ],
      "execution_count": 1,
      "outputs": []
    },
    {
      "cell_type": "code",
      "metadata": {
        "id": "W3_X-21fRiKx",
        "colab_type": "code",
        "colab": {}
      },
      "source": [
        "df = pd.read_csv(\"/content/boston.csv\")"
      ],
      "execution_count": 2,
      "outputs": []
    },
    {
      "cell_type": "code",
      "metadata": {
        "id": "Lo12dUm2Rmbu",
        "colab_type": "code",
        "colab": {
          "base_uri": "https://localhost:8080/",
          "height": 197
        },
        "outputId": "d1d26704-7551-4006-b6f8-e6f0c8eae91b"
      },
      "source": [
        "df.head()"
      ],
      "execution_count": 3,
      "outputs": [
        {
          "output_type": "execute_result",
          "data": {
            "text/html": [
              "<div>\n",
              "<style scoped>\n",
              "    .dataframe tbody tr th:only-of-type {\n",
              "        vertical-align: middle;\n",
              "    }\n",
              "\n",
              "    .dataframe tbody tr th {\n",
              "        vertical-align: top;\n",
              "    }\n",
              "\n",
              "    .dataframe thead th {\n",
              "        text-align: right;\n",
              "    }\n",
              "</style>\n",
              "<table border=\"1\" class=\"dataframe\">\n",
              "  <thead>\n",
              "    <tr style=\"text-align: right;\">\n",
              "      <th></th>\n",
              "      <th>CRIM</th>\n",
              "      <th>ZN</th>\n",
              "      <th>INDUS</th>\n",
              "      <th>CHAS</th>\n",
              "      <th>NOX</th>\n",
              "      <th>RM</th>\n",
              "      <th>AGE</th>\n",
              "      <th>DIS</th>\n",
              "      <th>RAD</th>\n",
              "      <th>TAX</th>\n",
              "      <th>PTRATIO</th>\n",
              "      <th>B</th>\n",
              "      <th>LSTAT</th>\n",
              "      <th>PRICE</th>\n",
              "    </tr>\n",
              "  </thead>\n",
              "  <tbody>\n",
              "    <tr>\n",
              "      <th>0</th>\n",
              "      <td>0.00632</td>\n",
              "      <td>18.0</td>\n",
              "      <td>2.31</td>\n",
              "      <td>0.0</td>\n",
              "      <td>0.538</td>\n",
              "      <td>6.575</td>\n",
              "      <td>65.2</td>\n",
              "      <td>4.0900</td>\n",
              "      <td>1.0</td>\n",
              "      <td>296.0</td>\n",
              "      <td>15.3</td>\n",
              "      <td>396.90</td>\n",
              "      <td>4.98</td>\n",
              "      <td>24.0</td>\n",
              "    </tr>\n",
              "    <tr>\n",
              "      <th>1</th>\n",
              "      <td>0.02731</td>\n",
              "      <td>0.0</td>\n",
              "      <td>7.07</td>\n",
              "      <td>0.0</td>\n",
              "      <td>0.469</td>\n",
              "      <td>6.421</td>\n",
              "      <td>78.9</td>\n",
              "      <td>4.9671</td>\n",
              "      <td>2.0</td>\n",
              "      <td>242.0</td>\n",
              "      <td>17.8</td>\n",
              "      <td>396.90</td>\n",
              "      <td>9.14</td>\n",
              "      <td>21.6</td>\n",
              "    </tr>\n",
              "    <tr>\n",
              "      <th>2</th>\n",
              "      <td>0.02729</td>\n",
              "      <td>0.0</td>\n",
              "      <td>7.07</td>\n",
              "      <td>0.0</td>\n",
              "      <td>0.469</td>\n",
              "      <td>7.185</td>\n",
              "      <td>61.1</td>\n",
              "      <td>4.9671</td>\n",
              "      <td>2.0</td>\n",
              "      <td>242.0</td>\n",
              "      <td>17.8</td>\n",
              "      <td>392.83</td>\n",
              "      <td>4.03</td>\n",
              "      <td>34.7</td>\n",
              "    </tr>\n",
              "    <tr>\n",
              "      <th>3</th>\n",
              "      <td>0.03237</td>\n",
              "      <td>0.0</td>\n",
              "      <td>2.18</td>\n",
              "      <td>0.0</td>\n",
              "      <td>0.458</td>\n",
              "      <td>6.998</td>\n",
              "      <td>45.8</td>\n",
              "      <td>6.0622</td>\n",
              "      <td>3.0</td>\n",
              "      <td>222.0</td>\n",
              "      <td>18.7</td>\n",
              "      <td>394.63</td>\n",
              "      <td>2.94</td>\n",
              "      <td>33.4</td>\n",
              "    </tr>\n",
              "    <tr>\n",
              "      <th>4</th>\n",
              "      <td>0.06905</td>\n",
              "      <td>0.0</td>\n",
              "      <td>2.18</td>\n",
              "      <td>0.0</td>\n",
              "      <td>0.458</td>\n",
              "      <td>7.147</td>\n",
              "      <td>54.2</td>\n",
              "      <td>6.0622</td>\n",
              "      <td>3.0</td>\n",
              "      <td>222.0</td>\n",
              "      <td>18.7</td>\n",
              "      <td>396.90</td>\n",
              "      <td>5.33</td>\n",
              "      <td>36.2</td>\n",
              "    </tr>\n",
              "  </tbody>\n",
              "</table>\n",
              "</div>"
            ],
            "text/plain": [
              "      CRIM    ZN  INDUS  CHAS    NOX  ...    TAX  PTRATIO       B  LSTAT  PRICE\n",
              "0  0.00632  18.0   2.31   0.0  0.538  ...  296.0     15.3  396.90   4.98   24.0\n",
              "1  0.02731   0.0   7.07   0.0  0.469  ...  242.0     17.8  396.90   9.14   21.6\n",
              "2  0.02729   0.0   7.07   0.0  0.469  ...  242.0     17.8  392.83   4.03   34.7\n",
              "3  0.03237   0.0   2.18   0.0  0.458  ...  222.0     18.7  394.63   2.94   33.4\n",
              "4  0.06905   0.0   2.18   0.0  0.458  ...  222.0     18.7  396.90   5.33   36.2\n",
              "\n",
              "[5 rows x 14 columns]"
            ]
          },
          "metadata": {
            "tags": []
          },
          "execution_count": 3
        }
      ]
    },
    {
      "cell_type": "code",
      "metadata": {
        "id": "vmOF7f1XRn45",
        "colab_type": "code",
        "colab": {
          "base_uri": "https://localhost:8080/",
          "height": 34
        },
        "outputId": "4494640f-e93b-4663-dbe8-b0ddb9260758"
      },
      "source": [
        "df.isnull().sum().sum()"
      ],
      "execution_count": 4,
      "outputs": [
        {
          "output_type": "execute_result",
          "data": {
            "text/plain": [
              "0"
            ]
          },
          "metadata": {
            "tags": []
          },
          "execution_count": 4
        }
      ]
    },
    {
      "cell_type": "code",
      "metadata": {
        "id": "Q-KBwf-jRsJj",
        "colab_type": "code",
        "colab": {}
      },
      "source": [
        "X = df.drop(columns=\"PRICE\", axis=1).values\n",
        "y = df[\"PRICE\"].values"
      ],
      "execution_count": 9,
      "outputs": []
    },
    {
      "cell_type": "code",
      "metadata": {
        "id": "g5PmedlbSkcK",
        "colab_type": "code",
        "colab": {
          "base_uri": "https://localhost:8080/",
          "height": 141
        },
        "outputId": "6919b7c8-7af7-4dd3-ff1b-2f98c39303b0"
      },
      "source": [
        "X.reshape(-1,1)"
      ],
      "execution_count": 14,
      "outputs": [
        {
          "output_type": "execute_result",
          "data": {
            "text/plain": [
              "array([[6.320e-03],\n",
              "       [1.800e+01],\n",
              "       [2.310e+00],\n",
              "       ...,\n",
              "       [2.100e+01],\n",
              "       [3.969e+02],\n",
              "       [7.880e+00]])"
            ]
          },
          "metadata": {
            "tags": []
          },
          "execution_count": 14
        }
      ]
    },
    {
      "cell_type": "code",
      "metadata": {
        "id": "5RbDCWu3SnBC",
        "colab_type": "code",
        "colab": {
          "base_uri": "https://localhost:8080/",
          "height": 1000
        },
        "outputId": "0f2a9a80-c290-4d9f-858f-1770babbe101"
      },
      "source": [
        "y.reshape(-1,1)"
      ],
      "execution_count": 15,
      "outputs": [
        {
          "output_type": "execute_result",
          "data": {
            "text/plain": [
              "array([[24. ],\n",
              "       [21.6],\n",
              "       [34.7],\n",
              "       [33.4],\n",
              "       [36.2],\n",
              "       [28.7],\n",
              "       [22.9],\n",
              "       [27.1],\n",
              "       [16.5],\n",
              "       [18.9],\n",
              "       [15. ],\n",
              "       [18.9],\n",
              "       [21.7],\n",
              "       [20.4],\n",
              "       [18.2],\n",
              "       [19.9],\n",
              "       [23.1],\n",
              "       [17.5],\n",
              "       [20.2],\n",
              "       [18.2],\n",
              "       [13.6],\n",
              "       [19.6],\n",
              "       [15.2],\n",
              "       [14.5],\n",
              "       [15.6],\n",
              "       [13.9],\n",
              "       [16.6],\n",
              "       [14.8],\n",
              "       [18.4],\n",
              "       [21. ],\n",
              "       [12.7],\n",
              "       [14.5],\n",
              "       [13.2],\n",
              "       [13.1],\n",
              "       [13.5],\n",
              "       [18.9],\n",
              "       [20. ],\n",
              "       [21. ],\n",
              "       [24.7],\n",
              "       [30.8],\n",
              "       [34.9],\n",
              "       [26.6],\n",
              "       [25.3],\n",
              "       [24.7],\n",
              "       [21.2],\n",
              "       [19.3],\n",
              "       [20. ],\n",
              "       [16.6],\n",
              "       [14.4],\n",
              "       [19.4],\n",
              "       [19.7],\n",
              "       [20.5],\n",
              "       [25. ],\n",
              "       [23.4],\n",
              "       [18.9],\n",
              "       [35.4],\n",
              "       [24.7],\n",
              "       [31.6],\n",
              "       [23.3],\n",
              "       [19.6],\n",
              "       [18.7],\n",
              "       [16. ],\n",
              "       [22.2],\n",
              "       [25. ],\n",
              "       [33. ],\n",
              "       [23.5],\n",
              "       [19.4],\n",
              "       [22. ],\n",
              "       [17.4],\n",
              "       [20.9],\n",
              "       [24.2],\n",
              "       [21.7],\n",
              "       [22.8],\n",
              "       [23.4],\n",
              "       [24.1],\n",
              "       [21.4],\n",
              "       [20. ],\n",
              "       [20.8],\n",
              "       [21.2],\n",
              "       [20.3],\n",
              "       [28. ],\n",
              "       [23.9],\n",
              "       [24.8],\n",
              "       [22.9],\n",
              "       [23.9],\n",
              "       [26.6],\n",
              "       [22.5],\n",
              "       [22.2],\n",
              "       [23.6],\n",
              "       [28.7],\n",
              "       [22.6],\n",
              "       [22. ],\n",
              "       [22.9],\n",
              "       [25. ],\n",
              "       [20.6],\n",
              "       [28.4],\n",
              "       [21.4],\n",
              "       [38.7],\n",
              "       [43.8],\n",
              "       [33.2],\n",
              "       [27.5],\n",
              "       [26.5],\n",
              "       [18.6],\n",
              "       [19.3],\n",
              "       [20.1],\n",
              "       [19.5],\n",
              "       [19.5],\n",
              "       [20.4],\n",
              "       [19.8],\n",
              "       [19.4],\n",
              "       [21.7],\n",
              "       [22.8],\n",
              "       [18.8],\n",
              "       [18.7],\n",
              "       [18.5],\n",
              "       [18.3],\n",
              "       [21.2],\n",
              "       [19.2],\n",
              "       [20.4],\n",
              "       [19.3],\n",
              "       [22. ],\n",
              "       [20.3],\n",
              "       [20.5],\n",
              "       [17.3],\n",
              "       [18.8],\n",
              "       [21.4],\n",
              "       [15.7],\n",
              "       [16.2],\n",
              "       [18. ],\n",
              "       [14.3],\n",
              "       [19.2],\n",
              "       [19.6],\n",
              "       [23. ],\n",
              "       [18.4],\n",
              "       [15.6],\n",
              "       [18.1],\n",
              "       [17.4],\n",
              "       [17.1],\n",
              "       [13.3],\n",
              "       [17.8],\n",
              "       [14. ],\n",
              "       [14.4],\n",
              "       [13.4],\n",
              "       [15.6],\n",
              "       [11.8],\n",
              "       [13.8],\n",
              "       [15.6],\n",
              "       [14.6],\n",
              "       [17.8],\n",
              "       [15.4],\n",
              "       [21.5],\n",
              "       [19.6],\n",
              "       [15.3],\n",
              "       [19.4],\n",
              "       [17. ],\n",
              "       [15.6],\n",
              "       [13.1],\n",
              "       [41.3],\n",
              "       [24.3],\n",
              "       [23.3],\n",
              "       [27. ],\n",
              "       [50. ],\n",
              "       [50. ],\n",
              "       [50. ],\n",
              "       [22.7],\n",
              "       [25. ],\n",
              "       [50. ],\n",
              "       [23.8],\n",
              "       [23.8],\n",
              "       [22.3],\n",
              "       [17.4],\n",
              "       [19.1],\n",
              "       [23.1],\n",
              "       [23.6],\n",
              "       [22.6],\n",
              "       [29.4],\n",
              "       [23.2],\n",
              "       [24.6],\n",
              "       [29.9],\n",
              "       [37.2],\n",
              "       [39.8],\n",
              "       [36.2],\n",
              "       [37.9],\n",
              "       [32.5],\n",
              "       [26.4],\n",
              "       [29.6],\n",
              "       [50. ],\n",
              "       [32. ],\n",
              "       [29.8],\n",
              "       [34.9],\n",
              "       [37. ],\n",
              "       [30.5],\n",
              "       [36.4],\n",
              "       [31.1],\n",
              "       [29.1],\n",
              "       [50. ],\n",
              "       [33.3],\n",
              "       [30.3],\n",
              "       [34.6],\n",
              "       [34.9],\n",
              "       [32.9],\n",
              "       [24.1],\n",
              "       [42.3],\n",
              "       [48.5],\n",
              "       [50. ],\n",
              "       [22.6],\n",
              "       [24.4],\n",
              "       [22.5],\n",
              "       [24.4],\n",
              "       [20. ],\n",
              "       [21.7],\n",
              "       [19.3],\n",
              "       [22.4],\n",
              "       [28.1],\n",
              "       [23.7],\n",
              "       [25. ],\n",
              "       [23.3],\n",
              "       [28.7],\n",
              "       [21.5],\n",
              "       [23. ],\n",
              "       [26.7],\n",
              "       [21.7],\n",
              "       [27.5],\n",
              "       [30.1],\n",
              "       [44.8],\n",
              "       [50. ],\n",
              "       [37.6],\n",
              "       [31.6],\n",
              "       [46.7],\n",
              "       [31.5],\n",
              "       [24.3],\n",
              "       [31.7],\n",
              "       [41.7],\n",
              "       [48.3],\n",
              "       [29. ],\n",
              "       [24. ],\n",
              "       [25.1],\n",
              "       [31.5],\n",
              "       [23.7],\n",
              "       [23.3],\n",
              "       [22. ],\n",
              "       [20.1],\n",
              "       [22.2],\n",
              "       [23.7],\n",
              "       [17.6],\n",
              "       [18.5],\n",
              "       [24.3],\n",
              "       [20.5],\n",
              "       [24.5],\n",
              "       [26.2],\n",
              "       [24.4],\n",
              "       [24.8],\n",
              "       [29.6],\n",
              "       [42.8],\n",
              "       [21.9],\n",
              "       [20.9],\n",
              "       [44. ],\n",
              "       [50. ],\n",
              "       [36. ],\n",
              "       [30.1],\n",
              "       [33.8],\n",
              "       [43.1],\n",
              "       [48.8],\n",
              "       [31. ],\n",
              "       [36.5],\n",
              "       [22.8],\n",
              "       [30.7],\n",
              "       [50. ],\n",
              "       [43.5],\n",
              "       [20.7],\n",
              "       [21.1],\n",
              "       [25.2],\n",
              "       [24.4],\n",
              "       [35.2],\n",
              "       [32.4],\n",
              "       [32. ],\n",
              "       [33.2],\n",
              "       [33.1],\n",
              "       [29.1],\n",
              "       [35.1],\n",
              "       [45.4],\n",
              "       [35.4],\n",
              "       [46. ],\n",
              "       [50. ],\n",
              "       [32.2],\n",
              "       [22. ],\n",
              "       [20.1],\n",
              "       [23.2],\n",
              "       [22.3],\n",
              "       [24.8],\n",
              "       [28.5],\n",
              "       [37.3],\n",
              "       [27.9],\n",
              "       [23.9],\n",
              "       [21.7],\n",
              "       [28.6],\n",
              "       [27.1],\n",
              "       [20.3],\n",
              "       [22.5],\n",
              "       [29. ],\n",
              "       [24.8],\n",
              "       [22. ],\n",
              "       [26.4],\n",
              "       [33.1],\n",
              "       [36.1],\n",
              "       [28.4],\n",
              "       [33.4],\n",
              "       [28.2],\n",
              "       [22.8],\n",
              "       [20.3],\n",
              "       [16.1],\n",
              "       [22.1],\n",
              "       [19.4],\n",
              "       [21.6],\n",
              "       [23.8],\n",
              "       [16.2],\n",
              "       [17.8],\n",
              "       [19.8],\n",
              "       [23.1],\n",
              "       [21. ],\n",
              "       [23.8],\n",
              "       [23.1],\n",
              "       [20.4],\n",
              "       [18.5],\n",
              "       [25. ],\n",
              "       [24.6],\n",
              "       [23. ],\n",
              "       [22.2],\n",
              "       [19.3],\n",
              "       [22.6],\n",
              "       [19.8],\n",
              "       [17.1],\n",
              "       [19.4],\n",
              "       [22.2],\n",
              "       [20.7],\n",
              "       [21.1],\n",
              "       [19.5],\n",
              "       [18.5],\n",
              "       [20.6],\n",
              "       [19. ],\n",
              "       [18.7],\n",
              "       [32.7],\n",
              "       [16.5],\n",
              "       [23.9],\n",
              "       [31.2],\n",
              "       [17.5],\n",
              "       [17.2],\n",
              "       [23.1],\n",
              "       [24.5],\n",
              "       [26.6],\n",
              "       [22.9],\n",
              "       [24.1],\n",
              "       [18.6],\n",
              "       [30.1],\n",
              "       [18.2],\n",
              "       [20.6],\n",
              "       [17.8],\n",
              "       [21.7],\n",
              "       [22.7],\n",
              "       [22.6],\n",
              "       [25. ],\n",
              "       [19.9],\n",
              "       [20.8],\n",
              "       [16.8],\n",
              "       [21.9],\n",
              "       [27.5],\n",
              "       [21.9],\n",
              "       [23.1],\n",
              "       [50. ],\n",
              "       [50. ],\n",
              "       [50. ],\n",
              "       [50. ],\n",
              "       [50. ],\n",
              "       [13.8],\n",
              "       [13.8],\n",
              "       [15. ],\n",
              "       [13.9],\n",
              "       [13.3],\n",
              "       [13.1],\n",
              "       [10.2],\n",
              "       [10.4],\n",
              "       [10.9],\n",
              "       [11.3],\n",
              "       [12.3],\n",
              "       [ 8.8],\n",
              "       [ 7.2],\n",
              "       [10.5],\n",
              "       [ 7.4],\n",
              "       [10.2],\n",
              "       [11.5],\n",
              "       [15.1],\n",
              "       [23.2],\n",
              "       [ 9.7],\n",
              "       [13.8],\n",
              "       [12.7],\n",
              "       [13.1],\n",
              "       [12.5],\n",
              "       [ 8.5],\n",
              "       [ 5. ],\n",
              "       [ 6.3],\n",
              "       [ 5.6],\n",
              "       [ 7.2],\n",
              "       [12.1],\n",
              "       [ 8.3],\n",
              "       [ 8.5],\n",
              "       [ 5. ],\n",
              "       [11.9],\n",
              "       [27.9],\n",
              "       [17.2],\n",
              "       [27.5],\n",
              "       [15. ],\n",
              "       [17.2],\n",
              "       [17.9],\n",
              "       [16.3],\n",
              "       [ 7. ],\n",
              "       [ 7.2],\n",
              "       [ 7.5],\n",
              "       [10.4],\n",
              "       [ 8.8],\n",
              "       [ 8.4],\n",
              "       [16.7],\n",
              "       [14.2],\n",
              "       [20.8],\n",
              "       [13.4],\n",
              "       [11.7],\n",
              "       [ 8.3],\n",
              "       [10.2],\n",
              "       [10.9],\n",
              "       [11. ],\n",
              "       [ 9.5],\n",
              "       [14.5],\n",
              "       [14.1],\n",
              "       [16.1],\n",
              "       [14.3],\n",
              "       [11.7],\n",
              "       [13.4],\n",
              "       [ 9.6],\n",
              "       [ 8.7],\n",
              "       [ 8.4],\n",
              "       [12.8],\n",
              "       [10.5],\n",
              "       [17.1],\n",
              "       [18.4],\n",
              "       [15.4],\n",
              "       [10.8],\n",
              "       [11.8],\n",
              "       [14.9],\n",
              "       [12.6],\n",
              "       [14.1],\n",
              "       [13. ],\n",
              "       [13.4],\n",
              "       [15.2],\n",
              "       [16.1],\n",
              "       [17.8],\n",
              "       [14.9],\n",
              "       [14.1],\n",
              "       [12.7],\n",
              "       [13.5],\n",
              "       [14.9],\n",
              "       [20. ],\n",
              "       [16.4],\n",
              "       [17.7],\n",
              "       [19.5],\n",
              "       [20.2],\n",
              "       [21.4],\n",
              "       [19.9],\n",
              "       [19. ],\n",
              "       [19.1],\n",
              "       [19.1],\n",
              "       [20.1],\n",
              "       [19.9],\n",
              "       [19.6],\n",
              "       [23.2],\n",
              "       [29.8],\n",
              "       [13.8],\n",
              "       [13.3],\n",
              "       [16.7],\n",
              "       [12. ],\n",
              "       [14.6],\n",
              "       [21.4],\n",
              "       [23. ],\n",
              "       [23.7],\n",
              "       [25. ],\n",
              "       [21.8],\n",
              "       [20.6],\n",
              "       [21.2],\n",
              "       [19.1],\n",
              "       [20.6],\n",
              "       [15.2],\n",
              "       [ 7. ],\n",
              "       [ 8.1],\n",
              "       [13.6],\n",
              "       [20.1],\n",
              "       [21.8],\n",
              "       [24.5],\n",
              "       [23.1],\n",
              "       [19.7],\n",
              "       [18.3],\n",
              "       [21.2],\n",
              "       [17.5],\n",
              "       [16.8],\n",
              "       [22.4],\n",
              "       [20.6],\n",
              "       [23.9],\n",
              "       [22. ],\n",
              "       [11.9]])"
            ]
          },
          "metadata": {
            "tags": []
          },
          "execution_count": 15
        }
      ]
    },
    {
      "cell_type": "code",
      "metadata": {
        "id": "UOjn1mc2SCTV",
        "colab_type": "code",
        "colab": {}
      },
      "source": [
        "from sklearn.model_selection import train_test_split\n",
        "from sklearn.linear_model import LinearRegression\n",
        "from sklearn.metrics import mean_squared_error\n",
        "\n",
        "X_train, X_test, y_train, y_test = train_test_split(X,y, test_size=0.2)"
      ],
      "execution_count": 16,
      "outputs": []
    },
    {
      "cell_type": "code",
      "metadata": {
        "id": "z7tpiB6NSmB7",
        "colab_type": "code",
        "colab": {
          "base_uri": "https://localhost:8080/",
          "height": 34
        },
        "outputId": "862f1219-a986-458b-c0c9-a992d7695697"
      },
      "source": [
        "lin_reg = LinearRegression(normalize=True, n_jobs=-1)\n",
        "lin_reg.fit(X_train,y_train)"
      ],
      "execution_count": 17,
      "outputs": [
        {
          "output_type": "execute_result",
          "data": {
            "text/plain": [
              "LinearRegression(copy_X=True, fit_intercept=True, n_jobs=-1, normalize=True)"
            ]
          },
          "metadata": {
            "tags": []
          },
          "execution_count": 17
        }
      ]
    },
    {
      "cell_type": "code",
      "metadata": {
        "id": "Z_QIqqZiSGyy",
        "colab_type": "code",
        "colab": {}
      },
      "source": [
        "y_pred = lin_reg.predict(X_test)"
      ],
      "execution_count": 18,
      "outputs": []
    },
    {
      "cell_type": "code",
      "metadata": {
        "id": "yHEIpCEuTKWd",
        "colab_type": "code",
        "colab": {
          "base_uri": "https://localhost:8080/",
          "height": 34
        },
        "outputId": "c8062a91-956e-43dd-ce11-609618323165"
      },
      "source": [
        "print(f'MSE : {mean_squared_error(y_test, y_pred)}')"
      ],
      "execution_count": 19,
      "outputs": [
        {
          "output_type": "stream",
          "text": [
            "MSE : 24.69755937273918\n"
          ],
          "name": "stdout"
        }
      ]
    },
    {
      "cell_type": "code",
      "metadata": {
        "id": "OoRTHIPzTQtb",
        "colab_type": "code",
        "colab": {
          "base_uri": "https://localhost:8080/",
          "height": 34
        },
        "outputId": "6b366658-7e18-4297-f842-d200f0a04c7e"
      },
      "source": [
        "r2 = lin_reg.score(X_test, y_test)\n",
        "print(f'R-squared : {r2:.4f}')"
      ],
      "execution_count": 20,
      "outputs": [
        {
          "output_type": "stream",
          "text": [
            "R-squared : 0.6943\n"
          ],
          "name": "stdout"
        }
      ]
    },
    {
      "cell_type": "code",
      "metadata": {
        "id": "7nSWkO7-TUmC",
        "colab_type": "code",
        "colab": {
          "base_uri": "https://localhost:8080/",
          "height": 105
        },
        "outputId": "595bfc62-05ae-4ea9-9104-d73ed70262e2"
      },
      "source": [
        "print(f'Intercept (b0) : {lin_reg.intercept_}\\nSlope (b1) : {lin_reg.coef_}' )"
      ],
      "execution_count": 21,
      "outputs": [
        {
          "output_type": "stream",
          "text": [
            "Intercept (b0) : 35.88361278171245\n",
            "Slope (b1) : [-9.83985759e-02  4.45802844e-02  3.41724925e-02  2.97036448e+00\n",
            " -1.57483038e+01  4.00791161e+00 -7.66815793e-03 -1.36083558e+00\n",
            "  2.95500907e-01 -1.38517521e-02 -1.00410129e+00  7.20435933e-03\n",
            " -4.81417534e-01]\n"
          ],
          "name": "stdout"
        }
      ]
    },
    {
      "cell_type": "code",
      "metadata": {
        "id": "g_LXtLBjTW88",
        "colab_type": "code",
        "colab": {
          "base_uri": "https://localhost:8080/",
          "height": 318
        },
        "outputId": "a42b5cb1-d7b9-4660-bebe-1a8f64ca1c46"
      },
      "source": [
        "from sklearn.model_selection import GridSearchCV\n",
        "from sklearn.linear_model import SGDRegressor\n",
        "\n",
        "parameters = {\n",
        "    \"loss\": (\"squared_loss\", \"huber\"),\n",
        "    \"penalty\": ('l2', 'l1', \"elasticnet\"),\n",
        "    \"alpha\": [1e-6, 1e-5, 1e-4,1e-3, 1e-2, 1e-1, 1],\n",
        "    \"max_iter\": [5000,10000, 20000]\n",
        "}\n",
        "\n",
        "sgd = SGDRegressor(random_state=42)\n",
        "clf = GridSearchCV(sgd, parameters)\n",
        "clf.fit(X_train,y_train)"
      ],
      "execution_count": 23,
      "outputs": [
        {
          "output_type": "execute_result",
          "data": {
            "text/plain": [
              "GridSearchCV(cv=None, error_score=nan,\n",
              "             estimator=SGDRegressor(alpha=0.0001, average=False,\n",
              "                                    early_stopping=False, epsilon=0.1,\n",
              "                                    eta0=0.01, fit_intercept=True,\n",
              "                                    l1_ratio=0.15, learning_rate='invscaling',\n",
              "                                    loss='squared_loss', max_iter=1000,\n",
              "                                    n_iter_no_change=5, penalty='l2',\n",
              "                                    power_t=0.25, random_state=42, shuffle=True,\n",
              "                                    tol=0.001, validation_fraction=0.1,\n",
              "                                    verbose=0, warm_start=False),\n",
              "             iid='deprecated', n_jobs=None,\n",
              "             param_grid={'alpha': [1e-06, 1e-05, 0.0001, 0.001, 0.01, 0.1, 1],\n",
              "                         'loss': ('squared_loss', 'huber'),\n",
              "                         'max_iter': [5000, 10000, 20000],\n",
              "                         'penalty': ('l2', 'l1', 'elasticnet')},\n",
              "             pre_dispatch='2*n_jobs', refit=True, return_train_score=False,\n",
              "             scoring=None, verbose=0)"
            ]
          },
          "metadata": {
            "tags": []
          },
          "execution_count": 23
        }
      ]
    },
    {
      "cell_type": "code",
      "metadata": {
        "id": "fY28iO6uTjsg",
        "colab_type": "code",
        "colab": {
          "base_uri": "https://localhost:8080/",
          "height": 34
        },
        "outputId": "ef2df0f6-6157-4bb4-8e27-f83b973a426a"
      },
      "source": [
        "clf.best_params_"
      ],
      "execution_count": 24,
      "outputs": [
        {
          "output_type": "execute_result",
          "data": {
            "text/plain": [
              "{'alpha': 0.01, 'loss': 'huber', 'max_iter': 5000, 'penalty': 'l2'}"
            ]
          },
          "metadata": {
            "tags": []
          },
          "execution_count": 24
        }
      ]
    },
    {
      "cell_type": "code",
      "metadata": {
        "id": "LojhOmluTrz9",
        "colab_type": "code",
        "colab": {
          "base_uri": "https://localhost:8080/",
          "height": 34
        },
        "outputId": "8676e472-9e41-44e3-dfc2-eb5e64ad5a0a"
      },
      "source": [
        "clf.best_score_"
      ],
      "execution_count": 25,
      "outputs": [
        {
          "output_type": "execute_result",
          "data": {
            "text/plain": [
              "-0.27066062600980095"
            ]
          },
          "metadata": {
            "tags": []
          },
          "execution_count": 25
        }
      ]
    },
    {
      "cell_type": "code",
      "metadata": {
        "id": "ZzDiq4QYTuy7",
        "colab_type": "code",
        "colab": {
          "base_uri": "https://localhost:8080/",
          "height": 34
        },
        "outputId": "d68b9e2d-63bf-4de9-c333-a955575cb1c8"
      },
      "source": [
        "clf.best_estimator_.intercept_"
      ],
      "execution_count": 26,
      "outputs": [
        {
          "output_type": "execute_result",
          "data": {
            "text/plain": [
              "array([0.02464601])"
            ]
          },
          "metadata": {
            "tags": []
          },
          "execution_count": 26
        }
      ]
    },
    {
      "cell_type": "code",
      "metadata": {
        "id": "Nx0vdExiTxUK",
        "colab_type": "code",
        "colab": {
          "base_uri": "https://localhost:8080/",
          "height": 87
        },
        "outputId": "ef4e058b-2b3c-4f0c-cdb6-b50fb0a42530"
      },
      "source": [
        "clf.best_estimator_.coef_"
      ],
      "execution_count": 27,
      "outputs": [
        {
          "output_type": "execute_result",
          "data": {
            "text/plain": [
              "array([-7.96835179e-02,  9.53712415e-02, -1.65062417e-01,  1.45976900e-02,\n",
              "        9.17092269e-03,  2.78152563e-01,  1.42456649e-01,  8.31259802e-03,\n",
              "        1.20502575e-01,  1.64716478e-04,  1.70483813e-01,  9.81633130e-02,\n",
              "       -5.20124003e-01])"
            ]
          },
          "metadata": {
            "tags": []
          },
          "execution_count": 27
        }
      ]
    },
    {
      "cell_type": "code",
      "metadata": {
        "id": "JNq50c4lT2LJ",
        "colab_type": "code",
        "colab": {}
      },
      "source": [
        "y_pred = clf.predict(X_test)"
      ],
      "execution_count": 28,
      "outputs": []
    },
    {
      "cell_type": "code",
      "metadata": {
        "id": "Bh8x480rT9Y1",
        "colab_type": "code",
        "colab": {
          "base_uri": "https://localhost:8080/",
          "height": 34
        },
        "outputId": "91128a1f-7557-4f55-8f2d-265b4d6fc82a"
      },
      "source": [
        "print(f'MSE : {mean_squared_error(y_test, y_pred)}')"
      ],
      "execution_count": 29,
      "outputs": [
        {
          "output_type": "stream",
          "text": [
            "MSE : 541.6365625917882\n"
          ],
          "name": "stdout"
        }
      ]
    },
    {
      "cell_type": "markdown",
      "metadata": {
        "id": "nnbuc4jYUIc8",
        "colab_type": "text"
      },
      "source": [
        "## Linear Regression has a much lower MSE compared to Stochastic Gradient Descent "
      ]
    }
  ]
}